{
 "cells": [
  {
   "cell_type": "code",
   "execution_count": 1,
   "metadata": {
    "collapsed": false,
    "deletable": true,
    "editable": true
   },
   "outputs": [
    {
     "data": {
      "application/javascript": [
       "\n",
       "    MathJax.Hub.Register.StartupHook(\"TeX Jax Ready\",function () {\n",
       "      var MML = MathJax.ElementJax.mml,\n",
       "          TeX = MathJax.InputJax.TeX;\n",
       "\n",
       "      TeX.Definitions.macros.nicefrac = \"myBevelFraction\";\n",
       "\n",
       "      TeX.Parse.Augment({\n",
       "        myBevelFraction: function (name) {\n",
       "          var num = this.ParseArg(name),\n",
       "              den = this.ParseArg(name);\n",
       "          this.Push(MML.mfrac(num,den).With({bevelled: true}));\n",
       "        }\n",
       "      });\n",
       "      MathJax.Hub.Insert(MathJax.InputJax.TeX.Definitions.macros,{\n",
       "          cancel: [\"Extension\",\"cancel\"],\n",
       "          bcancel: [\"Extension\",\"cancel\"],\n",
       "          xcancel: [\"Extension\",\"cancel\"],\n",
       "          cancelto: [\"Extension\",\"cancel\"]\n",
       "        });\n",
       "    });\n",
       "    "
      ],
      "text/plain": [
       "<IPython.core.display.Javascript object>"
      ]
     },
     "metadata": {},
     "output_type": "display_data"
    },
    {
     "data": {
      "text/html": [
       "<span style=\"display:none;\">$\\newcommand{\\unit}[1]{\\mathrm{#1}}$</span>\n",
       "<span style=\"display:none;\">$\\newcommand{\\ce}[1]{\\mathrm{#1}}$</span>\n",
       "<link rel=\"stylesheet\" href=\"https://cdn.rawgit.com/tiaanduplessis/wenk/master/dist/wenk.css\">\n",
       "<style> span.abbr{ color: #999; } </style>\n",
       "<style> [data-wenk]:after { z-index: 1000000000; } </style>\n"
      ],
      "text/plain": [
       "<IPython.core.display.HTML object>"
      ]
     },
     "metadata": {},
     "output_type": "display_data"
    },
    {
     "data": {
      "application/javascript": [
       "IPython.CodeCell.config_defaults.highlight_modes['magic_markdown'] = {'reg':[/^%%dis/]}; \n",
       "IPython.Cell.options_default.cm_config.lineWrapping = true;"
      ]
     },
     "metadata": {},
     "output_type": "display_data"
    }
   ],
   "source": [
    "#%load_ext autoreload\n",
    "#%autoreload 2\n",
    "import lyxithea as lyx\n",
    "import dissertation as lyxd\n",
    "\n",
    "bib = lyx.bib('bibs/dissertation.bib')\n",
    "dis = lyxd.dissertation(bib)\n",
    "x = 5.0"
   ]
  },
  {
   "cell_type": "code",
   "execution_count": 2,
   "metadata": {
    "collapsed": false,
    "deletable": true,
    "editable": true
   },
   "outputs": [
    {
     "data": {
      "text/markdown": [
       "# Preface\n",
       "Active interrogation applications were also explored, with three\n",
       "specific techniques chosen and proven. 5.0\n",
       " These techniques are termed\n",
       "threshold energy neutron analysis (TENA), interrogation of cargo for\n",
       "photo-fission (ICPF), and differential die away analysis (DDAA).\n",
       "\n",
       "this is a multiline match\n",
       "\n",
       " Threshold energy neutron analysis uses a source of 2.45\\unit{MeV}\n",
       "neutrons continuously interrogating cargo. These interrogation\n",
       "neutrons cause fissions in cargo containing special nuclear material\n",
       "\\latex{some latex string here % comment more latex}\n",
       "\n",
       "(SNM). A detector can be used to detect only those neutrons that have\n",
       "energies higher than the interrogating beam, unequivocably indicating\n",
       "the presence of SNM. The centrifugally tensioned metastable fluid\n",
       "detector was able to detect these neutrons at efficiencies up to\n",
       "$4\\unit{\\%}$ while rejecting up to $10,000\\unit{\\times}$ more source\n",
       "neutrons than fission neutrons. These results compare very favorably\n",
       "against conventional liquid scintillation detectors, which only can\n",
       "detect with efficiencies up to $0.1\\unit{\\%}$ and rejection ratios of\n",
       "less than $12\\unit{\\times}$."
      ],
      "text/plain": [
       "<IPython.core.display.Markdown object>"
      ]
     },
     "metadata": {},
     "output_type": "display_data"
    }
   ],
   "source": [
    "%%dis preface\n",
    "# Preface\n",
    "Active interrogation applications were also explored, with three\n",
    "specific techniques chosen and proven. {% x %} These techniques are termed\n",
    "threshold energy neutron analysis (TENA), interrogation of cargo for\n",
    "photo-fission (ICPF), and differential die away analysis (DDAA).\n",
    "{% print \"\"\"\n",
    "this is a multiline match\n",
    "\"\"\" %} Threshold energy neutron analysis uses a source of 2.45\\unit{MeV}\n",
    "neutrons continuously interrogating cargo. These interrogation\n",
    "neutrons cause fissions in cargo containing special nuclear material\n",
    "{% print '\\latex{some latex string here % comment more latex}' %}\n",
    "(SNM). A detector can be used to detect only those neutrons that have\n",
    "energies higher than the interrogating beam, unequivocably indicating\n",
    "the presence of SNM. The centrifugally tensioned metastable fluid\n",
    "detector was able to detect these neutrons at efficiencies up to\n",
    "$4\\unit{\\%}$ while rejecting up to $10,000\\unit{\\times}$ more source\n",
    "neutrons than fission neutrons. These results compare very favorably\n",
    "against conventional liquid scintillation detectors, which only can\n",
    "detect with efficiencies up to $0.1\\unit{\\%}$ and rejection ratios of\n",
    "less than $12\\unit{\\times}$."
   ]
  }
 ],
 "metadata": {
  "hide_input": false,
  "kernelspec": {
   "display_name": "Python 2",
   "language": "python",
   "name": "python2"
  },
  "language_info": {
   "codemirror_mode": {
    "name": "ipython",
    "version": 2
   },
   "file_extension": ".py",
   "mimetype": "text/x-python",
   "name": "python",
   "nbconvert_exporter": "python",
   "pygments_lexer": "ipython2",
   "version": "2.7.13"
  },
  "latex_envs": {
   "LaTeX_envs_menu_present": true,
   "autocomplete": true,
   "bibliofile": "biblio.bib",
   "cite_by": "apalike",
   "current_citInitial": 1,
   "eqLabelWithNumbers": true,
   "eqNumInitial": 1,
   "hotkeys": {
    "equation": "Ctrl-E",
    "itemize": "Ctrl-I"
   },
   "labels_anchors": false,
   "latex_user_defs": false,
   "report_style_numbering": false,
   "user_envs_cfg": false
  }
 },
 "nbformat": 4,
 "nbformat_minor": 2
}

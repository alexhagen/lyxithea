{
 "cells": [
  {
   "cell_type": "code",
   "execution_count": 1,
   "metadata": {
    "collapsed": false,
    "deletable": true,
    "editable": true
   },
   "outputs": [
    {
     "data": {
      "application/javascript": [
       "IPython.CodeCell.config_defaults.highlight_modes['magic_markdown'] = {'reg':[/^%%dis/]};"
      ]
     },
     "metadata": {},
     "output_type": "display_data"
    }
   ],
   "source": [
    "import lyxithea as lyx\n",
    "import dissertation as lyxd\n",
    "\n",
    "dis = lyxd.cdis()"
   ]
  },
  {
   "cell_type": "code",
   "execution_count": 4,
   "metadata": {
    "collapsed": false,
    "deletable": true,
    "editable": true,
    "hide_input": false
   },
   "outputs": [
    {
     "data": {
      "text/markdown": [
       "# Introduction\n",
       "\n",
       "Interdiction of special nuclear materials is a modern grand challenge \n",
       "(<a href=\"#Engineering2012\">National  2012</a>)\n",
       ". The potential damage of a nuclear based terrorist\n",
       "event is enormous; the terror None\n",
       " induced by such an event would also have far reaching\n",
       "repurcussions. Fear of an event of this magnitude has lead to the creation of international\n",
       "and national protection agencies since the development of the original bombs in 1945. This\n",
       "dissertation discusses the technical issues facing those that work to reduce the threat, and\n",
       "then profiles an alternative detector type for use in threat reduction. <a href=\"#ss\">ref 0</a>\n",
       " Significant\n",
       "improvements to this detector were performed for this dissertation. Methods of use of this\n",
       "detector were also developed and optimized for this dissertation and are described."
      ],
      "text/plain": [
       "<IPython.core.display.Markdown object>"
      ]
     },
     "metadata": {},
     "output_type": "display_data"
    },
    {
     "data": {
      "text/html": [
       "<script>\n",
       "            code_show=true; \n",
       "            function code_toggle() {\n",
       "                if (code_show){\n",
       "                    $('div.cell.code_cell.rendered.selected div.input').hide();\n",
       "                } else {\n",
       "                    $('div.cell.code_cell.rendered.selected div.input').show();\n",
       "                }\n",
       "                code_show = !code_show\n",
       "            }\n",
       "\n",
       "            $( document ).ready(code_toggle);\n",
       "            </script>"
      ],
      "text/plain": [
       "<IPython.core.display.HTML object>"
      ]
     },
     "metadata": {},
     "output_type": "display_data"
    }
   ],
   "source": [
    "%%dis add_to_cchap\n",
    "# Introduction\n",
    "\n",
    "Interdiction of special nuclear materials is a modern grand challenge \n",
    "{% dis._bib.pcite('Engineering2012') %}. The potential damage of a nuclear based terrorist\n",
    "event is enormous; the terror {% lyx.label('ss') %} induced by such an event would also have far reaching\n",
    "repurcussions. Fear of an event of this magnitude has lead to the creation of international\n",
    "and national protection agencies since the development of the original bombs in 1945. This\n",
    "dissertation discusses the technical issues facing those that work to reduce the threat, and\n",
    "then profiles an alternative detector type for use in threat reduction. {% lyx.cref('ss') %} Significant\n",
    "improvements to this detector were performed for this dissertation. Methods of use of this\n",
    "detector were also developed and optimized for this dissertation and are described."
   ]
  },
  {
   "cell_type": "code",
   "execution_count": null,
   "metadata": {
    "collapsed": true
   },
   "outputs": [],
   "source": []
  }
 ],
 "metadata": {
  "celltoolbar": "Edit Metadata",
  "hide_input": false,
  "kernelspec": {
   "display_name": "Python 2",
   "language": "python",
   "name": "python2"
  },
  "language_info": {
   "codemirror_mode": {
    "name": "ipython",
    "version": 2
   },
   "file_extension": ".py",
   "mimetype": "text/x-python",
   "name": "python",
   "nbconvert_exporter": "python",
   "pygments_lexer": "ipython2",
   "version": "2.7.13"
  },
  "latex_envs": {
   "LaTeX_envs_menu_present": true,
   "autocomplete": true,
   "bibliofile": "biblio.bib",
   "cite_by": "apalike",
   "current_citInitial": 1,
   "eqLabelWithNumbers": true,
   "eqNumInitial": 1,
   "hotkeys": {
    "equation": "Ctrl-E",
    "itemize": "Ctrl-I"
   },
   "labels_anchors": false,
   "latex_user_defs": false,
   "report_style_numbering": false,
   "user_envs_cfg": false
  }
 },
 "nbformat": 4,
 "nbformat_minor": 2
}

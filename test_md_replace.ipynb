{
 "cells": [
  {
   "cell_type": "code",
   "execution_count": 2,
   "metadata": {
    "collapsed": false,
    "deletable": true,
    "editable": true
   },
   "outputs": [],
   "source": [
    "import lyxithea as lyx\n",
    "import dissertation as lyxd\n",
    "\n",
    "dis = lyxd.cdis()"
   ]
  },
  {
   "cell_type": "code",
   "execution_count": 3,
   "metadata": {
    "collapsed": false,
    "deletable": true,
    "editable": true,
    "hide_input": false
   },
   "outputs": [
    {
     "data": {
      "text/markdown": [
       "# Introduction\n",
       "\n",
       "Interdiction of special nuclear materials is a modern grand challenge \n",
       "(<a href=\"#Engineering2012\">National  2012</a>)\n",
       ". The potential damage of a nuclear based terrorist\n",
       "event is enormous; the terror None\n",
       " induced by such an event would also have far reaching\n",
       "repurcussions. Fear of an event of this magnitude has lead to the creation of international\n",
       "and national protection agencies since the development of the original bombs in 1945. This\n",
       "dissertation discusses the technical issues facing those that work to reduce the threat, and\n",
       "then profiles an alternative detector type for use in threat reduction. <a href=\"#ss\">ref 0</a>\n",
       " Significant\n",
       "improvements to this detector were performed for this dissertation. Methods of use of this\n",
       "detector were also developed and optimized for this dissertation and are described."
      ],
      "text/plain": [
       "<IPython.core.display.Markdown object>"
      ]
     },
     "metadata": {},
     "output_type": "display_data"
    },
    {
     "data": {
      "application/javascript": [
       "\n",
       "        function code_toggle()\n",
       "        {\n",
       "            var code_shown = $(this).attr('value') == 'true';\n",
       "            if (code_shown)\n",
       "            {\n",
       "                console.log(\"code shown\")\n",
       "                $(this).children('.input').show('500');\n",
       "            }\n",
       "            else\n",
       "            {\n",
       "                console.log(\"code not shown\")\n",
       "                $(this).children('.input').hide('500');\n",
       "            }\n",
       "\n",
       "            code_shown = !code_shown;\n",
       "            $(this).attr('value', code_shown);\n",
       "        }\n",
       "        $('.code_cell').each(function() {\n",
       "            if(!$(this)[0].hasAttribute(\"value\")){\n",
       "                $(this).attr('value', 'true');\n",
       "            }\n",
       "        });\n",
       "        $('.code_cell').each(function() {\n",
       "            var ev = $._data($(this), 'events');\n",
       "            if (!(ev && ev.dblclick)) {\n",
       "                $(this).dblclick(code_toggle);\n",
       "            }\n",
       "        });"
      ],
      "text/plain": [
       "<IPython.core.display.Javascript object>"
      ]
     },
     "metadata": {},
     "output_type": "display_data"
    }
   ],
   "source": [
    "%%dis add_to_cchap\n",
    "# Introduction\n",
    "\n",
    "Interdiction of special nuclear materials is a modern grand challenge \n",
    "{% dis._bib.pcite('Engineering2012') %}. The potential damage of a nuclear based terrorist\n",
    "event is enormous; the terror {% lyx.label('ss') %} induced by such an event would also have far reaching\n",
    "repurcussions. Fear of an event of this magnitude has lead to the creation of international\n",
    "and national protection agencies since the development of the original bombs in 1945. This\n",
    "dissertation discusses the technical issues facing those that work to reduce the threat, and\n",
    "then profiles an alternative detector type for use in threat reduction. {% lyx.cref('ss') %} Significant\n",
    "improvements to this detector were performed for this dissertation. Methods of use of this\n",
    "detector were also developed and optimized for this dissertation and are described."
   ]
  },
  {
   "cell_type": "code",
   "execution_count": 4,
   "metadata": {
    "collapsed": true,
    "deletable": true,
    "editable": true
   },
   "outputs": [],
   "source": [
    "# some code here"
   ]
  },
  {
   "cell_type": "code",
   "execution_count": 6,
   "metadata": {
    "collapsed": false
   },
   "outputs": [
    {
     "data": {
      "text/markdown": [
       "\n",
       "new code cell here\n",
       "*italic*"
      ],
      "text/plain": [
       "<IPython.core.display.Markdown object>"
      ]
     },
     "metadata": {},
     "output_type": "display_data"
    },
    {
     "data": {
      "application/javascript": [
       "\n",
       "        function code_toggle()\n",
       "        {\n",
       "            var code_shown = $(this).attr('value') == 'true';\n",
       "            if (code_shown)\n",
       "            {\n",
       "                console.log(\"code shown\")\n",
       "                $(this).children('.input').show('500');\n",
       "            }\n",
       "            else\n",
       "            {\n",
       "                console.log(\"code not shown\")\n",
       "                $(this).children('.input').hide('500');\n",
       "            }\n",
       "\n",
       "            code_shown = !code_shown;\n",
       "            $(this).attr('value', code_shown);\n",
       "        }\n",
       "        $('.code_cell').each(function() {\n",
       "            if(!$(this)[0].hasAttribute(\"value\")){\n",
       "                $(this).attr('value', 'true');\n",
       "            }\n",
       "        });\n",
       "        $('.code_cell').each(function() {\n",
       "            var ev = $._data($(this), 'events');\n",
       "            if (!(ev && ev.dblclick)) {\n",
       "                $(this).dblclick(code_toggle);\n",
       "            }\n",
       "        });"
      ],
      "text/plain": [
       "<IPython.core.display.Javascript object>"
      ]
     },
     "metadata": {},
     "output_type": "display_data"
    }
   ],
   "source": [
    "%%dis add_to_cchap\n",
    "\n",
    "new code cell here\n",
    "*italic*"
   ]
  },
  {
   "cell_type": "code",
   "execution_count": null,
   "metadata": {
    "collapsed": true,
    "deletable": true,
    "editable": true
   },
   "outputs": [],
   "source": []
  },
  {
   "cell_type": "code",
   "execution_count": null,
   "metadata": {
    "collapsed": true,
    "deletable": true,
    "editable": true
   },
   "outputs": [],
   "source": []
  }
 ],
 "metadata": {
  "hide_input": false,
  "kernelspec": {
   "display_name": "Python 2",
   "language": "python",
   "name": "python2"
  },
  "language_info": {
   "codemirror_mode": {
    "name": "ipython",
    "version": 2
   },
   "file_extension": ".py",
   "mimetype": "text/x-python",
   "name": "python",
   "nbconvert_exporter": "python",
   "pygments_lexer": "ipython2",
   "version": "2.7.13"
  },
  "latex_envs": {
   "LaTeX_envs_menu_present": true,
   "autocomplete": true,
   "bibliofile": "biblio.bib",
   "cite_by": "apalike",
   "current_citInitial": 1,
   "eqLabelWithNumbers": true,
   "eqNumInitial": 1,
   "hotkeys": {
    "equation": "Ctrl-E",
    "itemize": "Ctrl-I"
   },
   "labels_anchors": false,
   "latex_user_defs": false,
   "report_style_numbering": false,
   "user_envs_cfg": false
  }
 },
 "nbformat": 4,
 "nbformat_minor": 2
}

{
 "cells": [
  {
   "cell_type": "markdown",
   "metadata": {},
   "source": [
    "# lyxithea\n",
    "\n",
    "Last Updated on 10/17/17\n",
    "\n",
    "Written by [Alex Hagen](http://alexhagen.github.io)\n",
    "\n",
    "Hosted at [github.com/alexhagen/lyxithea](http://github.com/alexhagen/lyxithea)\n",
    "\n",
    "Documentation at [alexhagen.github.io/lyxithea/](http://alexhagen.github.io/lyxithea/)"
   ]
  },
  {
   "cell_type": "markdown",
   "metadata": {},
   "source": [
    "## LyXithea Demonstrations and Screenshots\n",
    "\n",
    "### Installation\n",
    "\n",
    "To install `pym`, all we have to do is install `numpy`, `scipy`, and\n",
    "`matplotlib`, then download `pym` to our code directory (or wherever, really).\n",
    "To do this, we can use\n",
    "\n",
    "```bash\n",
    "\n",
    "$ pip install numpy\n",
    "$ pip install scipy\n",
    "$ pip install matplotlib\n",
    "$ pip install colours\n",
    "$ cd ~/code\n",
    "$ git clone https://github.com/alexhagen/lyxithea.git\n",
    "\n",
    "```\n",
    "\n",
    "and then, we can use the library within any script by using"
   ]
  },
  {
   "cell_type": "code",
   "execution_count": null,
   "metadata": {
    "collapsed": true
   },
   "outputs": [],
   "source": []
  }
 ],
 "metadata": {
  "hide_input": false,
  "kernelspec": {
   "display_name": "Python 2",
   "language": "python",
   "name": "python2"
  },
  "language_info": {
   "codemirror_mode": {
    "name": "ipython",
    "version": 2
   },
   "file_extension": ".py",
   "mimetype": "text/x-python",
   "name": "python",
   "nbconvert_exporter": "python",
   "pygments_lexer": "ipython2",
   "version": "2.7.12"
  },
  "latex_envs": {
   "LaTeX_envs_menu_present": true,
   "autocomplete": true,
   "bibliofile": "bibs/dissertation.bib",
   "cite_by": "apalike",
   "current_citInitial": 1,
   "eqLabelWithNumbers": true,
   "eqNumInitial": 1,
   "hotkeys": {
    "equation": "Ctrl-E",
    "itemize": "Ctrl-I"
   },
   "labels_anchors": false,
   "latex_user_defs": false,
   "report_style_numbering": false,
   "user_envs_cfg": false
  }
 },
 "nbformat": 4,
 "nbformat_minor": 2
}

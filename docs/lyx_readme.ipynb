{
 "cells": [
  {
   "cell_type": "markdown",
   "metadata": {},
   "source": [
    "# lyxithea\n",
    "\n",
    "Last Updated on 10/17/17\n",
    "\n",
    "Written by [Alex Hagen](http://alexhagen.github.io)\n",
    "\n",
    "Hosted at [github.com/alexhagen/lyxithea](http://github.com/alexhagen/lyxithea)\n",
    "\n",
    "Documentation at [alexhagen.github.io/lyxithea/](http://alexhagen.github.io/lyxithea/)"
   ]
  },
  {
   "cell_type": "markdown",
   "metadata": {},
   "source": [
    "## Introduction\n",
    "\n",
    "``lyxithea`` - named as a mix between ``LyX``, the great $\\LaTeX$ editing program, and *Lisithea* a moon of Jupiter - is a (very alpha) way to write LaTeX documents in Jupyter Notebook.  It currently allows completely for LaTeX export, and also some components allow HTML export.  It includes\n",
    "\n",
    "- Bibliography\n",
    "- LaTeX figure environments\n",
    "- LaTeX tabulate environments\n",
    "- Cross Referencing\n",
    "\n",
    "For any problems or feature requests, send me an issue on [github](github.com/alexhagen/lyxithea) and I'll work on it!"
   ]
  },
  {
   "cell_type": "markdown",
   "metadata": {},
   "source": [
    "### Demo\n",
    "\n",
    "Once ``lyxithea`` is installed (a how-to is below), we can start to use it.  Below is an example on how to write a quick two column document with a figure, a table, and a bibliography, and export that to a pdf."
   ]
  },
  {
   "cell_type": "markdown",
   "metadata": {},
   "source": [
    "### Installation\n",
    "\n",
    "To install `lyxithea`, all we have to do is install `numpy`, `scipy`, and\n",
    "`matplotlib`, then download `lyxithea` to our code directory (or wherever, really).\n",
    "To do this, we can use\n",
    "\n",
    "```bash\n",
    "\n",
    "$ pip install numpy\n",
    "$ pip install scipy\n",
    "$ pip install matplotlib\n",
    "$ pip install colours\n",
    "$ cd ~/code\n",
    "$ git clone https://github.com/alexhagen/lyxithea.git\n",
    "\n",
    "```\n",
    "\n",
    "and then, we can use the library within any script by adding\n",
    "\n",
    "```bash\n",
    "sudo echo \"export PYTHONPATH=${PYTHONPATH}:~/code:~/util\" >> ~/.bashrc\n",
    "\n",
    "```\n",
    "to our ``.bashrc``."
   ]
  },
  {
   "cell_type": "code",
   "execution_count": null,
   "metadata": {
    "collapsed": true
   },
   "outputs": [],
   "source": []
  }
 ],
 "metadata": {
  "hide_input": false,
  "kernelspec": {
   "display_name": "Python 2",
   "language": "python",
   "name": "python2"
  },
  "language_info": {
   "codemirror_mode": {
    "name": "ipython",
    "version": 2
   },
   "file_extension": ".py",
   "mimetype": "text/x-python",
   "name": "python",
   "nbconvert_exporter": "python",
   "pygments_lexer": "ipython2",
   "version": "2.7.12"
  },
  "latex_envs": {
   "LaTeX_envs_menu_present": true,
   "autocomplete": true,
   "bibliofile": "bibs/dissertation.bib",
   "cite_by": "apalike",
   "current_citInitial": 1,
   "eqLabelWithNumbers": true,
   "eqNumInitial": 1,
   "hotkeys": {
    "equation": "Ctrl-E",
    "itemize": "Ctrl-I"
   },
   "labels_anchors": false,
   "latex_user_defs": false,
   "report_style_numbering": false,
   "user_envs_cfg": false
  }
 },
 "nbformat": 4,
 "nbformat_minor": 2
}

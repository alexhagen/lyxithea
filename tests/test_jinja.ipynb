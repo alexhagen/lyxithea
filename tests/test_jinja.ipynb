{
 "cells": [
  {
   "cell_type": "code",
   "execution_count": 2,
   "metadata": {
    "collapsed": false,
    "deletable": true,
    "editable": true
   },
   "outputs": [
    {
     "data": {
      "application/javascript": [
       "IPython.CodeCell.config_defaults.highlight_modes['magic_markdown'] = {'reg':[/^%%dis/]}; \n",
       "IPython.Cell.options_default.cm_config.lineWrapping = true;"
      ]
     },
     "metadata": {},
     "output_type": "display_data"
    }
   ],
   "source": [
    "import lyxithea as lyx\n",
    "import dissertation as lyxd\n",
    "\n",
    "dis = lyxd.cdis()\n",
    "x = 5.0"
   ]
  },
  {
   "cell_type": "code",
   "execution_count": 3,
   "metadata": {
    "collapsed": false,
    "deletable": true,
    "editable": true
   },
   "outputs": [
    {
     "data": {
      "text/markdown": [
       "# Preface\n",
       "Active interrogation applications were also explored, with three\n",
       "specific techniques chosen and proven. 5.0\n",
       " These techniques are termed\n",
       "threshold energy neutron analysis (TENA), interrogation of cargo for\n",
       "photo-fission (ICPF), and differential die away analysis (DDAA).\n",
       "\n",
       "this is a multiline match\n",
       "\n",
       " Threshold energy neutron analysis uses a source of $2.45\\unit{MeV}$\n",
       "neutrons continuously interrogating cargo. These interrogation\n",
       "neutrons cause fissions in cargo containing special nuclear material\n",
       "something\n",
       "\n",
       "(SNM). A detector can be used to detect only those neutrons that have\n",
       "energies higher than the interrogating beam, unequivocably indicating\n",
       "the presence of SNM. The centrifugally tensioned metastable fluid\n",
       "detector was able to detect these neutrons at efficiencies up to\n",
       "$4\\unit{\\%}$ while rejecting up to $10,000\\unit{\\times}$ more source\n",
       "neutrons than fission neutrons. These results compare very favorably\n",
       "against conventional liquid scintillation detectors, which only can\n",
       "detect with efficiencies up to $0.1\\unit{\\%}$ and rejection ratios of\n",
       "less than $12\\unit{\\times}$."
      ],
      "text/plain": [
       "<IPython.core.display.Markdown object>"
      ]
     },
     "metadata": {},
     "output_type": "display_data"
    }
   ],
   "source": [
    "%%dis preface\n",
    "# Preface\n",
    "Active interrogation applications were also explored, with three\n",
    "specific techniques chosen and proven. {% x %} These techniques are termed\n",
    "threshold energy neutron analysis (TENA), interrogation of cargo for\n",
    "photo-fission (ICPF), and differential die away analysis (DDAA).\n",
    "{% print \"\"\"\n",
    "this is a multiline match\n",
    "\"\"\" %} Threshold energy neutron analysis uses a source of $2.45\\unit{MeV}$\n",
    "neutrons continuously interrogating cargo. These interrogation\n",
    "neutrons cause fissions in cargo containing special nuclear material\n",
    "{% print 'something' %}\n",
    "(SNM). A detector can be used to detect only those neutrons that have\n",
    "energies higher than the interrogating beam, unequivocably indicating\n",
    "the presence of SNM. The centrifugally tensioned metastable fluid\n",
    "detector was able to detect these neutrons at efficiencies up to\n",
    "$4\\unit{\\%}$ while rejecting up to $10,000\\unit{\\times}$ more source\n",
    "neutrons than fission neutrons. These results compare very favorably\n",
    "against conventional liquid scintillation detectors, which only can\n",
    "detect with efficiencies up to $0.1\\unit{\\%}$ and rejection ratios of\n",
    "less than $12\\unit{\\times}$."
   ]
  },
  {
   "cell_type": "code",
   "execution_count": null,
   "metadata": {
    "collapsed": true,
    "deletable": true,
    "editable": true
   },
   "outputs": [],
   "source": []
  }
 ],
 "metadata": {
  "hide_input": false,
  "kernelspec": {
   "display_name": "Python 2",
   "language": "python",
   "name": "python2"
  },
  "language_info": {
   "codemirror_mode": {
    "name": "ipython",
    "version": 2
   },
   "file_extension": ".py",
   "mimetype": "text/x-python",
   "name": "python",
   "nbconvert_exporter": "python",
   "pygments_lexer": "ipython2",
   "version": "2.7.12"
  },
  "latex_envs": {
   "LaTeX_envs_menu_present": true,
   "autocomplete": true,
   "bibliofile": "biblio.bib",
   "cite_by": "apalike",
   "current_citInitial": 1,
   "eqLabelWithNumbers": true,
   "eqNumInitial": 1,
   "hotkeys": {
    "equation": "Ctrl-E",
    "itemize": "Ctrl-I"
   },
   "labels_anchors": false,
   "latex_user_defs": false,
   "report_style_numbering": false,
   "user_envs_cfg": false
  }
 },
 "nbformat": 4,
 "nbformat_minor": 2
}

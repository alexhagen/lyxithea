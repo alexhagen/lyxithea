{
 "cells": [
  {
   "cell_type": "code",
   "execution_count": 1,
   "metadata": {
    "collapsed": true
   },
   "outputs": [],
   "source": [
    "from lyxithea import lyxithea as lyx\n",
    "import numpy as np"
   ]
  },
  {
   "cell_type": "code",
   "execution_count": 2,
   "metadata": {},
   "outputs": [
    {
     "name": "stdout",
     "output_type": "stream",
     "text": [
      "[[1, 2, 3, 4, 5], [5, 4, 3, 2, 1]]\n"
     ]
    }
   ],
   "source": [
    "arr = [[1, 2, 3, 4, 5], [5, 4, 3, 2, 1]]\n",
    "print arr"
   ]
  },
  {
   "cell_type": "code",
   "execution_count": 3,
   "metadata": {},
   "outputs": [
    {
     "name": "stdout",
     "output_type": "stream",
     "text": [
      "[['a', 'r'], ['b', 'b']]\n"
     ]
    },
    {
     "data": {
      "text/html": [
       "\n",
       "            <div class='table' style='align: center; margin-left: auto; margin-right: auto;'>\n",
       "                <div style='margin: auto; text-align: center;' class='tablecaption' name='1'><b>Table 1:</b> </div>\n",
       "                <table>\n",
       "<thead>\n",
       "<tr><th style=\"text-align: center;\"> a  </th><th style=\"text-align: center;\"> r  </th></tr>\n",
       "</thead>\n",
       "<tbody>\n",
       "<table>\n",
       "<thead>\n",
       "<tr><th style=\"text-align: center;\"> b  </th><th style=\"text-align: center;\"> b  </th></tr>\n",
       "</thead>\n",
       "<tbody>\n",
       "<tr><td style=\"text-align: center;\">5.00</td><td style=\"text-align: center;\">1.00</td></tr>\n",
       "<tr><td style=\"text-align: center;\">4.00</td><td style=\"text-align: center;\">2.00</td></tr>\n",
       "<tr><td style=\"text-align: center;\">3.00</td><td style=\"text-align: center;\">3.00</td></tr>\n",
       "<tr><td style=\"text-align: center;\">2.00</td><td style=\"text-align: center;\">4.00</td></tr>\n",
       "<tr><td style=\"text-align: center;\">1.00</td><td style=\"text-align: center;\">5.00</td></tr>\n",
       "</tbody>\n",
       "</table>\n",
       "            </div>\n",
       "        "
      ],
      "text/plain": [
       "<IPython.core.display.HTML object>"
      ]
     },
     "metadata": {},
     "output_type": "display_data"
    }
   ],
   "source": [
    "lyx.table(arr, headers=[['a', 'r'], ['b', 'b']], rotate=True)"
   ]
  },
  {
   "cell_type": "code",
   "execution_count": null,
   "metadata": {
    "collapsed": true
   },
   "outputs": [],
   "source": []
  }
 ],
 "metadata": {
  "hide_input": false,
  "kernelspec": {
   "display_name": "Python 2",
   "language": "python",
   "name": "python2"
  },
  "language_info": {
   "codemirror_mode": {
    "name": "ipython",
    "version": 2
   },
   "file_extension": ".py",
   "mimetype": "text/x-python",
   "name": "python",
   "nbconvert_exporter": "python",
   "pygments_lexer": "ipython2",
   "version": "2.7.12"
  },
  "latex_envs": {
   "LaTeX_envs_menu_present": true,
   "autocomplete": true,
   "bibliofile": "bibs/dissertation.bib",
   "cite_by": "apalike",
   "current_citInitial": 1,
   "eqLabelWithNumbers": true,
   "eqNumInitial": 1,
   "hotkeys": {
    "equation": "Ctrl-E",
    "itemize": "Ctrl-I"
   },
   "labels_anchors": false,
   "latex_user_defs": false,
   "report_style_numbering": false,
   "user_envs_cfg": false
  }
 },
 "nbformat": 4,
 "nbformat_minor": 2
}

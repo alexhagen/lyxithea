{
 "cells": [
  {
   "cell_type": "code",
   "execution_count": 1,
   "metadata": {},
   "outputs": [
    {
     "data": {
      "application/javascript": [
       "require(\"notebook/js/cell\").Cell.options_default.cm_config.lineWrapping = true;\n",
       "require(['notebook/js/codecell'], function(codecell) {\n",
       "    codecell.CodeCell.options_default.highlight_modes['magic_markdown'] = {'reg':[/^%%dis|^%%doc/]}; \n",
       "    Jupyter.notebook.events.one('kernel_ready.Kernel', function(){\n",
       "      Jupyter.notebook.get_cells().map(function(cell){\n",
       "          if (cell.cell_type == 'code'){ cell.auto_highlight(); } }) ;\n",
       "      });\n",
       "   });\n"
      ]
     },
     "metadata": {},
     "output_type": "display_data"
    },
    {
     "data": {
      "text/html": [
       "<span>$\\newcommand{\\unit}[1]{\\mathrm{\\; #1}}$</span>\n",
       "<span>$\\newcommand{\\ce}[1]{\\mathrm{#1}}$</span>\n",
       "<link rel=\"stylesheet\" href=\"https://cdn.rawgit.com/tiaanduplessis/wenk/master/dist/wenk.css\">\n",
       "<style> span.abbr{ color: #999; } </style>\n",
       "<style> [data-wenk]:after { z-index: 1000000000; } </style>\n"
      ]
     },
     "metadata": {},
     "output_type": "display_data"
    }
   ],
   "source": [
    "import lyxithea.lyxithea as lyx\n",
    "import lyxithea.article2 as lyxa\n",
    "\n",
    "bib = lyx.bib('bibs/dissertation.bib')\n",
    "dis = lyxa.article2(bib)\n",
    "dis.chapter_paths(['.'])\n",
    "dis.author('Alex Hagen')\n",
    "dis.affiliation('Purdue University')\n",
    "dis.title('Hi')"
   ]
  },
  {
   "cell_type": "code",
   "execution_count": 2,
   "metadata": {
    "hide_input": false
   },
   "outputs": [
    {
     "data": {
      "text/latex": [
       "\\invis{Cite Engineering}"
      ],
      "text/plain": [
       "<IPython.core.display.Latex object>"
      ]
     },
     "metadata": {},
     "output_type": "display_data"
    },
    {
     "data": {
      "text/latex": [
       "\\invis{Cite Engineering}"
      ],
      "text/plain": [
       "<IPython.core.display.Latex object>"
      ]
     },
     "metadata": {},
     "output_type": "display_data"
    },
    {
     "data": {
      "text/markdown": [
       "# Introduction\n",
       "\n",
       "Interdiction of special nuclear materials is a modern grand challenge \\cite{Byrd2005}\n",
       ". None\n",
       " The potential damage of a nuclear based terrorist event is enormous; the terror \\label{ss}\n",
       " \\cite{Hahn1968}\n",
       " induced by such an event would also have far reaching repurcussions. Fear of an event of this magnitude has lead to the creation of international and national protection agencies since the development of the original bombs in 1945. This dissertation discusses the technical issues facing those that work to reduce the threat, and then profiles an alternative detector type for use in threat reduction. \\cref{ss}\n",
       " Significant improvements to this detector were performed for this dissertation. Methods of use of this detector were also developed and optimized for this dissertation and are described.\n",
       "\n",
       "## Sections?\n",
       "\n",
       "Text and stuff\n",
       "\n",
       "### Subsections\n",
       "\n",
       "Text and more stuff"
      ],
      "text/plain": [
       "<IPython.core.display.Markdown object>"
      ]
     },
     "metadata": {},
     "output_type": "display_data"
    }
   ],
   "source": [
    "%%art2 add_to_cchap\n",
    "# Introduction\n",
    "\n",
    "Interdiction of special nuclear materials is a modern grand challenge {% dis._bib.pcite('Byrd2005') %}. {% lyx.todo('Cite Engineering') %} The potential damage of a nuclear based terrorist event is enormous; the terror {% lyx.label('ss') %} {% dis._bib.pcite('Hahn1968') %} induced by such an event would also have far reaching repurcussions. Fear of an event of this magnitude has lead to the creation of international and national protection agencies since the development of the original bombs in 1945. This dissertation discusses the technical issues facing those that work to reduce the threat, and then profiles an alternative detector type for use in threat reduction. {% lyx.cref('ss') %} Significant improvements to this detector were performed for this dissertation. Methods of use of this detector were also developed and optimized for this dissertation and are described.\n",
    "\n",
    "## Sections?\n",
    "\n",
    "Text and stuff\n",
    "\n",
    "### Subsections\n",
    "\n",
    "Text and more stuff"
   ]
  },
  {
   "cell_type": "code",
   "execution_count": 3,
   "metadata": {},
   "outputs": [
    {
     "data": {
      "text/markdown": [
       "\n",
       "here's some more material $2.45\\frac{1}{12}$"
      ],
      "text/plain": [
       "<IPython.core.display.Markdown object>"
      ]
     },
     "metadata": {},
     "output_type": "display_data"
    }
   ],
   "source": [
    "%%art2 add_to_cchap\n",
    "\n",
    "here's some more material $2.45\\frac{1}{12}$"
   ]
  },
  {
   "cell_type": "code",
   "execution_count": 4,
   "metadata": {},
   "outputs": [
    {
     "data": {
      "text/latex": [
       "\\bibliographystyle{unsrt} \\bibliography{/home/ahagen/bibs/dissertation.bib}"
      ],
      "text/plain": [
       "<IPython.core.display.Latex object>"
      ]
     },
     "execution_count": 4,
     "metadata": {},
     "output_type": "execute_result"
    }
   ],
   "source": [
    "dis._bib.bibliography()"
   ]
  },
  {
   "cell_type": "code",
   "execution_count": 5,
   "metadata": {},
   "outputs": [
    {
     "name": "stderr",
     "output_type": "stream",
     "text": [
      "/usr/local/lib/python2.7/dist-packages/nbconvert/filters/datatypefilter.py:41: UserWarning: Your element with mimetype(s) ['application/javascript'] is not able to be represented.\n",
      "  mimetypes=output.keys())\n",
      "/usr/local/lib/python2.7/dist-packages/nbconvert/filters/datatypefilter.py:41: UserWarning: Your element with mimetype(s) ['text/html'] is not able to be represented.\n",
      "  mimetypes=output.keys())\n"
     ]
    },
    {
     "data": {
      "text/html": [
       "<a href='./test_article2.pdf' target='_blank'>./test_article2.pdf</a><br>"
      ],
      "text/plain": [
       "/home/ahagen/code/test_article2.pdf"
      ]
     },
     "metadata": {},
     "output_type": "display_data"
    },
    {
     "data": {
      "text/html": [
       "<a href='./test_article2.tex' target='_blank'>./test_article2.tex</a><br>"
      ],
      "text/plain": [
       "/home/ahagen/code/test_article2.tex"
      ]
     },
     "metadata": {},
     "output_type": "display_data"
    }
   ],
   "source": [
    "dis.export('test_article2')"
   ]
  },
  {
   "cell_type": "code",
   "execution_count": 6,
   "metadata": {},
   "outputs": [
    {
     "data": {
      "text/html": [
       "<a href='todos.pdf' target='_blank'>todos.pdf</a><br>"
      ],
      "text/plain": [
       "/home/ahagen/code/todos.pdf"
      ]
     },
     "metadata": {},
     "output_type": "display_data"
    }
   ],
   "source": [
    "lyx.print_todos()"
   ]
  },
  {
   "cell_type": "code",
   "execution_count": null,
   "metadata": {
    "collapsed": true
   },
   "outputs": [],
   "source": []
  }
 ],
 "metadata": {
  "hide_input": false,
  "kernelspec": {
   "display_name": "Python 2",
   "language": "python",
   "name": "python2"
  },
  "language_info": {
   "codemirror_mode": {
    "name": "ipython",
    "version": 2
   },
   "file_extension": ".py",
   "mimetype": "text/x-python",
   "name": "python",
   "nbconvert_exporter": "python",
   "pygments_lexer": "ipython2",
   "version": "2.7.12"
  },
  "latex_envs": {
   "LaTeX_envs_menu_present": true,
   "autocomplete": true,
   "bibliofile": "biblio.bib",
   "cite_by": "apalike",
   "current_citInitial": 1,
   "eqLabelWithNumbers": true,
   "eqNumInitial": 1,
   "hotkeys": {
    "equation": "Ctrl-E",
    "itemize": "Ctrl-I"
   },
   "labels_anchors": false,
   "latex_user_defs": false,
   "report_style_numbering": false,
   "user_envs_cfg": false
  }
 },
 "nbformat": 4,
 "nbformat_minor": 2
}

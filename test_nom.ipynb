{
 "cells": [
  {
   "cell_type": "code",
   "execution_count": 4,
   "metadata": {
    "collapsed": false,
    "deletable": true,
    "editable": true
   },
   "outputs": [],
   "source": [
    "import lyxithea as lyx\n",
    "import dissertation as lyxd\n",
    "\n",
    "dis = lyxd.cdis()"
   ]
  },
  {
   "cell_type": "code",
   "execution_count": 5,
   "metadata": {
    "collapsed": false,
    "deletable": true,
    "editable": true,
    "hide_input": false
   },
   "outputs": [
    {
     "data": {
      "text/markdown": [
       "## Background and capabilities of tensioned metastable fluid detectors\n",
       "\n",
       "Nuclear particle detectors utilizing metastability in fluids have been under development since the 1950s (??)\n",
       " (??)\n",
       " (<a href=\"#Apfel1979\">Apfel,  1979</a>)\n",
       ".  These detectors have played prominently in the search for $\\ce{^{3}He}$ replacement technologies because of their direct detection of fast neutrons.  The most common manifestation of metastable fluid detectors to date are \"bubble detectors\" and <style>\n",
       "a.def {\n",
       "    display: none;\n",
       "}\n",
       ".abbr:hover + .def {\n",
       "    display: inline;\n",
       "    color: #777;\n",
       "    padding-left: 1em;\n",
       "}\n",
       "</style>\n",
       "<span class='abbr'>SDD</span><a class='def'>superheated droplet detectors</a>\n",
       ".  These detectors operate by raising the temperature of fluids past their boiling point in a controlled fashion, so they are not able to nucleate. When a nuclear particle strikes the fluid particle and deposits enough energy, local nucleation occurs.  This local nucleation manifests itself in the rapid growth of a vapor cavity - a cavitation - to macroscopic sizes.\n",
       "\n",
       "Intro - tmfds are a novel kind of energy deposition detector, ability to\n",
       "detect neutrons, heavy particles such as alphas or fission products.\n",
       "\n",
       "They work on the principle of negative pressure. FIGURE WITH THE SCALES\n",
       "OF ENERGY.\n",
       "\n",
       "\\[par:bernoulli equation for tmfd operation\\]"
      ],
      "text/plain": [
       "<IPython.core.display.Markdown object>"
      ]
     },
     "metadata": {},
     "output_type": "display_data"
    }
   ],
   "source": [
    "%%dis add_to_cchap\n",
    "## Background and capabilities of tensioned metastable fluid detectors\n",
    "\n",
    "Nuclear particle detectors utilizing metastability in fluids have been under development since the 1950s {% dis._bib.pcite('Hahn') %} {% dis._bib.pcite('Glasser') %} {% dis._bib.pcite('Apfel1979') %}.  These detectors have played prominently in the search for $\\ce{^{3}He}$ replacement technologies because of their direct detection of fast neutrons.  The most common manifestation of metastable fluid detectors to date are \"bubble detectors\" and {% lyx.nom('SDD', \"superheated droplet detectors\") %}.  These detectors operate by raising the temperature of fluids past their boiling point in a controlled fashion, so they are not able to nucleate. When a nuclear particle strikes the fluid particle and deposits enough energy, local nucleation occurs.  This local nucleation manifests itself in the rapid growth of a vapor cavity - a cavitation - to macroscopic sizes.\n",
    "\n",
    "Intro - tmfds are a novel kind of energy deposition detector, ability to\n",
    "detect neutrons, heavy particles such as alphas or fission products.\n",
    "\n",
    "They work on the principle of negative pressure. FIGURE WITH THE SCALES\n",
    "OF ENERGY.\n",
    "\n",
    "\\[par:bernoulli equation for tmfd operation\\]\n"
   ]
  },
  {
   "cell_type": "code",
   "execution_count": 6,
   "metadata": {
    "collapsed": false,
    "deletable": true,
    "editable": true
   },
   "outputs": [
    {
     "data": {
      "text/html": [
       "<li>fix Hahn citation</li>\n",
       "<li>fix Glasser citation</li>\n"
      ],
      "text/plain": [
       "<IPython.core.display.HTML object>"
      ]
     },
     "metadata": {},
     "output_type": "display_data"
    }
   ],
   "source": [
    "lyx.print_todos()"
   ]
  },
  {
   "cell_type": "code",
   "execution_count": null,
   "metadata": {
    "collapsed": true,
    "deletable": true,
    "editable": true
   },
   "outputs": [],
   "source": []
  }
 ],
 "metadata": {
  "hide_input": false,
  "kernelspec": {
   "display_name": "Python 2",
   "language": "python",
   "name": "python2"
  },
  "language_info": {
   "codemirror_mode": {
    "name": "ipython",
    "version": 2
   },
   "file_extension": ".py",
   "mimetype": "text/x-python",
   "name": "python",
   "nbconvert_exporter": "python",
   "pygments_lexer": "ipython2",
   "version": "2.7.13"
  },
  "latex_envs": {
   "LaTeX_envs_menu_present": true,
   "autocomplete": true,
   "bibliofile": "biblio.bib",
   "cite_by": "apalike",
   "current_citInitial": 1,
   "eqLabelWithNumbers": true,
   "eqNumInitial": 1,
   "hotkeys": {
    "equation": "Ctrl-E",
    "itemize": "Ctrl-I"
   },
   "labels_anchors": false,
   "latex_user_defs": false,
   "report_style_numbering": false,
   "user_envs_cfg": false
  }
 },
 "nbformat": 4,
 "nbformat_minor": 2
}

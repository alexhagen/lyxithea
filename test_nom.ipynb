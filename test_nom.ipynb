{
 "cells": [
  {
   "cell_type": "code",
   "execution_count": 1,
   "metadata": {
    "collapsed": false,
    "deletable": true,
    "editable": true
   },
   "outputs": [
    {
     "data": {
      "application/javascript": [
       "\n",
       "    MathJax.Hub.Register.StartupHook(\"TeX Jax Ready\",function () {\n",
       "      var MML = MathJax.ElementJax.mml,\n",
       "          TeX = MathJax.InputJax.TeX;\n",
       "\n",
       "      TeX.Definitions.macros.nicefrac = \"myBevelFraction\";\n",
       "\n",
       "      TeX.Parse.Augment({\n",
       "        myBevelFraction: function (name) {\n",
       "          var num = this.ParseArg(name),\n",
       "              den = this.ParseArg(name);\n",
       "          this.Push(MML.mfrac(num,den).With({bevelled: true}));\n",
       "        }\n",
       "      });\n",
       "      MathJax.Hub.Insert(MathJax.InputJax.TeX.Definitions.macros,{\n",
       "          cancel: [\"Extension\",\"cancel\"],\n",
       "          bcancel: [\"Extension\",\"cancel\"],\n",
       "          xcancel: [\"Extension\",\"cancel\"],\n",
       "          cancelto: [\"Extension\",\"cancel\"]\n",
       "        });\n",
       "    });\n",
       "    "
      ],
      "text/plain": [
       "<IPython.core.display.Javascript object>"
      ]
     },
     "metadata": {},
     "output_type": "display_data"
    },
    {
     "data": {
      "text/html": [
       "<span style=\"display:none;\">$\\newcommand{\\unit}[1]{\\mathrm{#1}}$</span>\n",
       "<span style=\"display:none;\">$\\newcommand{\\ce}[1]{\\mathrm{#1}}$</span>\n",
       "<link rel=\"stylesheet\" href=\"https://cdn.rawgit.com/tiaanduplessis/wenk/master/dist/wenk.css\">\n",
       "<style> span.abbr{ color: #999; } </style>\n",
       "<style> [data-wenk]:after { z-index: 1000000000; } </style>\n"
      ],
      "text/plain": [
       "<IPython.core.display.HTML object>"
      ]
     },
     "metadata": {},
     "output_type": "display_data"
    },
    {
     "data": {
      "application/javascript": [
       "IPython.CodeCell.config_defaults.highlight_modes['magic_markdown'] = {'reg':[/^%%dis/]}; \n",
       "IPython.Cell.options_default.cm_config.lineWrapping = true;"
      ]
     },
     "metadata": {},
     "output_type": "display_data"
    }
   ],
   "source": [
    "import lyxithea as lyx\n",
    "import dissertation as lyxd\n",
    "\n",
    "dis = lyxd.cdis()"
   ]
  },
  {
   "cell_type": "code",
   "execution_count": 3,
   "metadata": {
    "collapsed": false,
    "deletable": true,
    "editable": true,
    "hide_input": false
   },
   "outputs": [
    {
     "data": {
      "text/markdown": [
       "## Background and capabilities of tensioned metastable fluid detectors\n",
       "\n",
       "Nuclear particle detectors utilizing metastability in fluids have been under development since the 1950s (??)\n",
       " (??)\n",
       " (<a href=\"#Apfel1979\">Apfel,  1979</a>)\n",
       ".  These detectors have played prominently in the search for $\\ce{^{3}He}$ replacement technologies because of their direct detection of fast neutrons.  The most common manifestation of metastable fluid detectors to date are \"bubble detectors\" and <span class='abbr' data-wenk='superheated droplet detectors'>SDD</span>\n",
       ".  These detectors operate by raising the temperature of fluids past their boiling point in a controlled fashion, so they are not able to nucleate. When a nuclear particle strikes the fluid particle and deposits enough energy, local nucleation occurs.  This local nucleation manifests itself in the rapid growth of a vapor cavity - a cavitation - to macroscopic sizes.\n",
       "\n",
       "Intro - tmfds are a novel kind of energy deposition detector, ability to\n",
       "detect neutrons, heavy particles such as alphas or fission products.\n",
       "\n",
       "They work on the principle of negative pressure. FIGURE WITH THE SCALES\n",
       "<span class='abbr' data-wenk='density'>$\\rho$</span>\n",
       "\n",
       "OF ENERGY.\n",
       "\n",
       "\\[par:bernoulli equation for tmfd operation\\]"
      ],
      "text/plain": [
       "<IPython.core.display.Markdown object>"
      ]
     },
     "metadata": {},
     "output_type": "display_data"
    },
    {
     "data": {
      "application/javascript": [
       "\n",
       "        function code_toggle()\n",
       "        {\n",
       "            var code_shown = $(this).attr('value') == 'true';\n",
       "            if (code_shown)\n",
       "            {\n",
       "                console.log(\"code shown\")\n",
       "                $(this).children('.input').show('500');\n",
       "            }\n",
       "            else\n",
       "            {\n",
       "                console.log(\"code not shown\")\n",
       "                $(this).children('.input').hide('500');\n",
       "            }\n",
       "\n",
       "            code_shown = !code_shown;\n",
       "            $(this).attr('value', code_shown);\n",
       "        }\n",
       "        $('.code_cell').each(function() {\n",
       "            if(!$(this)[0].hasAttribute(\"value\")){\n",
       "                $(this).attr('value', 'true');\n",
       "            }\n",
       "        });\n",
       "        $('.code_cell').each(function() {\n",
       "            $(this).unbind(\"dblclick\").dblclick(code_toggle);\n",
       "        });"
      ],
      "text/plain": [
       "<IPython.core.display.Javascript object>"
      ]
     },
     "metadata": {},
     "output_type": "display_data"
    }
   ],
   "source": [
    "%%dis add_to_cchap\n",
    "## Background and capabilities of tensioned metastable fluid detectors\n",
    "\n",
    "Nuclear particle detectors utilizing metastability in fluids have been under development since the 1950s {% dis._bib.pcite('Hahn') %} {% dis._bib.pcite('Glasser') %} {% dis._bib.pcite('Apfel1979') %}.  These detectors have played prominently in the search for $\\ce{^{3}He}$ replacement technologies because of their direct detection of fast neutrons.  The most common manifestation of metastable fluid detectors to date are \"bubble detectors\" and {% lyx.nom('SDD', \"superheated droplet detectors\") %}.  These detectors operate by raising the temperature of fluids past their boiling point in a controlled fashion, so they are not able to nucleate. When a nuclear particle strikes the fluid particle and deposits enough energy, local nucleation occurs.  This local nucleation manifests itself in the rapid growth of a vapor cavity - a cavitation - to macroscopic sizes.\n",
    "\n",
    "Intro - tmfds are a novel kind of energy deposition detector, ability to\n",
    "detect neutrons, heavy particles such as alphas or fission products.\n",
    "\n",
    "They work on the principle of negative pressure. FIGURE WITH THE SCALES\n",
    "{% lyx.nom(r'$\\rho$', 'density', 'symbols') %}\n",
    "OF ENERGY.\n",
    "\n",
    "\\[par:bernoulli equation for tmfd operation\\]\n"
   ]
  },
  {
   "cell_type": "code",
   "execution_count": 6,
   "metadata": {
    "collapsed": false,
    "deletable": true,
    "editable": true
   },
   "outputs": [
    {
     "data": {
      "text/html": [
       "<li>fix Hahn citation</li>\n",
       "<li>fix Glasser citation</li>\n"
      ],
      "text/plain": [
       "<IPython.core.display.HTML object>"
      ]
     },
     "metadata": {},
     "output_type": "display_data"
    }
   ],
   "source": [
    "lyx.print_todos()"
   ]
  },
  {
   "cell_type": "code",
   "execution_count": null,
   "metadata": {
    "collapsed": true,
    "deletable": true,
    "editable": true
   },
   "outputs": [],
   "source": []
  }
 ],
 "metadata": {
  "hide_input": false,
  "kernelspec": {
   "display_name": "Python 2",
   "language": "python",
   "name": "python2"
  },
  "language_info": {
   "codemirror_mode": {
    "name": "ipython",
    "version": 2
   },
   "file_extension": ".py",
   "mimetype": "text/x-python",
   "name": "python",
   "nbconvert_exporter": "python",
   "pygments_lexer": "ipython2",
   "version": "2.7.13"
  },
  "latex_envs": {
   "LaTeX_envs_menu_present": true,
   "autocomplete": true,
   "bibliofile": "biblio.bib",
   "cite_by": "apalike",
   "current_citInitial": 1,
   "eqLabelWithNumbers": true,
   "eqNumInitial": 1,
   "hotkeys": {
    "equation": "Ctrl-E",
    "itemize": "Ctrl-I"
   },
   "labels_anchors": false,
   "latex_user_defs": false,
   "report_style_numbering": false,
   "user_envs_cfg": false
  }
 },
 "nbformat": 4,
 "nbformat_minor": 2
}

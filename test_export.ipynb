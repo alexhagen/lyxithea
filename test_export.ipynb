{
 "cells": [
  {
   "cell_type": "code",
   "execution_count": 1,
   "metadata": {
    "collapsed": false,
    "deletable": true,
    "editable": true
   },
   "outputs": [
    {
     "data": {
      "application/javascript": [
       "\n",
       "    MathJax.Hub.Register.StartupHook(\"TeX Jax Ready\",function () {\n",
       "      var MML = MathJax.ElementJax.mml,\n",
       "          TeX = MathJax.InputJax.TeX;\n",
       "\n",
       "      TeX.Definitions.macros.nicefrac = \"myBevelFraction\";\n",
       "\n",
       "      TeX.Parse.Augment({\n",
       "        myBevelFraction: function (name) {\n",
       "          var num = this.ParseArg(name),\n",
       "              den = this.ParseArg(name);\n",
       "          this.Push(MML.mfrac(num,den).With({bevelled: true}));\n",
       "        }\n",
       "      });\n",
       "      MathJax.Hub.Insert(MathJax.InputJax.TeX.Definitions.macros,{\n",
       "          cancel: [\"Extension\",\"cancel\"],\n",
       "          bcancel: [\"Extension\",\"cancel\"],\n",
       "          xcancel: [\"Extension\",\"cancel\"],\n",
       "          cancelto: [\"Extension\",\"cancel\"]\n",
       "        });\n",
       "    });\n",
       "    "
      ],
      "text/plain": [
       "<IPython.core.display.Javascript object>"
      ]
     },
     "metadata": {},
     "output_type": "display_data"
    },
    {
     "data": {
      "text/html": [
       "<span style=\"display:none;\">$\\newcommand{\\unit}[1]{\\mathrm{#1}}$</span>\n",
       "<span style=\"display:none;\">$\\newcommand{\\ce}[1]{\\mathrm{#1}}$</span>\n",
       "<link rel=\"stylesheet\" href=\"https://cdn.rawgit.com/tiaanduplessis/wenk/master/dist/wenk.css\">\n",
       "<style> span.abbr{ color: #999; } </style>\n",
       "<style> [data-wenk]:after { z-index: 1000000000; } </style>\n"
      ],
      "text/plain": [
       "<IPython.core.display.HTML object>"
      ]
     },
     "metadata": {},
     "output_type": "display_data"
    },
    {
     "data": {
      "application/javascript": [
       "IPython.CodeCell.config_defaults.highlight_modes['magic_markdown'] = {'reg':[/^%%dis/]}; \n",
       "IPython.Cell.options_default.cm_config.lineWrapping = true;"
      ]
     },
     "metadata": {},
     "output_type": "display_data"
    }
   ],
   "source": [
    "import lyxithea as lyx\n",
    "import dissertation as lyxd\n",
    "\n",
    "dis = lyxd.cdis().chapter_paths(['.'])"
   ]
  },
  {
   "cell_type": "code",
   "execution_count": 2,
   "metadata": {
    "collapsed": false,
    "deletable": true,
    "editable": true,
    "hide_input": false
   },
   "outputs": [
    {
     "data": {
      "text/markdown": [
       "# Introduction\n",
       "\n",
       "Interdiction of special nuclear materials is a modern grand challenge (<a href=\"#Engineering2012\">National  2012</a>)\n",
       ". \n",
       " The potential damage of a nuclear based terrorist event is enormous; the terror None\n",
       " (??)\n",
       " induced by such an event would also have far reaching repurcussions. Fear of an event of this magnitude has lead to the creation of international and national protection agencies since the development of the original bombs in 1945. This dissertation discusses the technical issues facing those that work to reduce the threat, and then profiles an alternative detector type for use in threat reduction. <a href=\"#ss\">ref 0</a>\n",
       " Significant improvements to this detector were performed for this dissertation. Methods of use of this detector were also developed and optimized for this dissertation and are described."
      ],
      "text/plain": [
       "<IPython.core.display.Markdown object>"
      ]
     },
     "metadata": {},
     "output_type": "display_data"
    },
    {
     "data": {
      "application/javascript": [
       "\n",
       "        function code_toggle()\n",
       "        {\n",
       "            var code_shown = $(this).attr('value') == 'true';\n",
       "            if (code_shown)\n",
       "            {\n",
       "                console.log(\"code shown\")\n",
       "                $(this).children('.input').show('500');\n",
       "            }\n",
       "            else\n",
       "            {\n",
       "                console.log(\"code not shown\")\n",
       "                $(this).children('.input').hide('500');\n",
       "            }\n",
       "\n",
       "            code_shown = !code_shown;\n",
       "            $(this).attr('value', code_shown);\n",
       "        }\n",
       "        $('.code_cell').each(function() {\n",
       "            if(!$(this)[0].hasAttribute(\"value\")){\n",
       "                $(this).attr('value', 'true');\n",
       "            }\n",
       "        });\n",
       "        $('.code_cell').each(function() {\n",
       "            $(this).unbind(\"dblclick\").dblclick(code_toggle);\n",
       "        });"
      ],
      "text/plain": [
       "<IPython.core.display.Javascript object>"
      ]
     },
     "metadata": {},
     "output_type": "display_data"
    }
   ],
   "source": [
    "%%dis add_to_cchap\n",
    "# Introduction\n",
    "\n",
    "Interdiction of special nuclear materials is a modern grand challenge {% dis._bib.pcite('Engineering2012') %}. {% lyx.todo('Cite Engineering') %} The potential damage of a nuclear based terrorist event is enormous; the terror {% lyx.label('ss') %} {% dis._bib.pcite('somebadlabel2010') %} induced by such an event would also have far reaching repurcussions. Fear of an event of this magnitude has lead to the creation of international and national protection agencies since the development of the original bombs in 1945. This dissertation discusses the technical issues facing those that work to reduce the threat, and then profiles an alternative detector type for use in threat reduction. {% lyx.cref('ss') %} Significant improvements to this detector were performed for this dissertation. Methods of use of this detector were also developed and optimized for this dissertation and are described."
   ]
  },
  {
   "cell_type": "code",
   "execution_count": 3,
   "metadata": {
    "collapsed": false,
    "deletable": true,
    "editable": true
   },
   "outputs": [
    {
     "data": {
      "text/plain": [
       "<dissertation.dissertation at 0x1097ec0d0>"
      ]
     },
     "execution_count": 3,
     "metadata": {},
     "output_type": "execute_result"
    }
   ],
   "source": [
    "dis.chapter('test_jinja.ipynb')"
   ]
  },
  {
   "cell_type": "code",
   "execution_count": 4,
   "metadata": {
    "collapsed": false,
    "deletable": true,
    "editable": true
   },
   "outputs": [
    {
     "data": {
      "text/html": [
       "<a href='./test_export.html' target='_blank'>./test_export.html</a><br>"
      ],
      "text/plain": [
       "/Users/ahagen/code/lyxithea/test_export.html"
      ]
     },
     "metadata": {},
     "output_type": "display_data"
    }
   ],
   "source": [
    "dis.export('test_export')"
   ]
  },
  {
   "cell_type": "code",
   "execution_count": 5,
   "metadata": {
    "collapsed": false,
    "deletable": true,
    "editable": true
   },
   "outputs": [
    {
     "data": {
      "text/html": [
       "<li>Cite Engineering</li>\n",
       "<li>fix somebadlabel2010 citation</li>\n"
      ],
      "text/plain": [
       "<IPython.core.display.HTML object>"
      ]
     },
     "metadata": {},
     "output_type": "display_data"
    }
   ],
   "source": [
    "lyx.print_todos()"
   ]
  }
 ],
 "metadata": {
  "hide_input": false,
  "kernelspec": {
   "display_name": "Python 2",
   "language": "python",
   "name": "python2"
  },
  "language_info": {
   "codemirror_mode": {
    "name": "ipython",
    "version": 2
   },
   "file_extension": ".py",
   "mimetype": "text/x-python",
   "name": "python",
   "nbconvert_exporter": "python",
   "pygments_lexer": "ipython2",
   "version": "2.7.13"
  },
  "latex_envs": {
   "LaTeX_envs_menu_present": true,
   "autocomplete": true,
   "bibliofile": "biblio.bib",
   "cite_by": "apalike",
   "current_citInitial": 1,
   "eqLabelWithNumbers": true,
   "eqNumInitial": 1,
   "hotkeys": {
    "equation": "Ctrl-E",
    "itemize": "Ctrl-I"
   },
   "labels_anchors": false,
   "latex_user_defs": false,
   "report_style_numbering": false,
   "user_envs_cfg": false
  }
 },
 "nbformat": 4,
 "nbformat_minor": 2
}

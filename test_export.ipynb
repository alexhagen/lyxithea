{
 "cells": [
  {
   "cell_type": "code",
   "execution_count": 1,
   "metadata": {
    "collapsed": false,
    "deletable": true,
    "editable": true
   },
   "outputs": [
    {
     "data": {
      "application/javascript": [
       "IPython.CodeCell.config_defaults.highlight_modes['magic_markdown'] = {'reg':[/^%%dis/]}; \n",
       "IPython.Cell.options_default.cm_config.lineWrapping = true;"
      ]
     },
     "metadata": {},
     "output_type": "display_data"
    }
   ],
   "source": [
    "import lyxithea as lyx\n",
    "import dissertation as lyxd\n",
    "\n",
    "bib = lyx.bib('bibs/dissertation.bib')\n",
    "dis = lyxd.dissertation(bib)\n",
    "dis.chapter_paths(['.'])"
   ]
  },
  {
   "cell_type": "code",
   "execution_count": 2,
   "metadata": {
    "collapsed": false,
    "deletable": true,
    "editable": true,
    "hide_input": false
   },
   "outputs": [
    {
     "data": {
      "text/markdown": [
       "# Introduction\n",
       "\n",
       "Interdiction of special nuclear materials is a modern grand challenge \\cite{Byrd2005}\n",
       ". None\n",
       " The potential damage of a nuclear based terrorist event is enormous; the terror \\label{ss}\n",
       " \\cite{Hahn1968}\n",
       " induced by such an event would also have far reaching repurcussions. Fear of an event of this magnitude has lead to the creation of international and national protection agencies since the development of the original bombs in 1945. This dissertation discusses the technical issues facing those that work to reduce the threat, and then profiles an alternative detector type for use in threat reduction. \\ref{ss}\n",
       " Significant improvements to this detector were performed for this dissertation. Methods of use of this detector were also developed and optimized for this dissertation and are described."
      ],
      "text/plain": [
       "<IPython.core.display.Markdown object>"
      ]
     },
     "metadata": {},
     "output_type": "display_data"
    }
   ],
   "source": [
    "%%dis add_to_cchap\n",
    "# Introduction\n",
    "\n",
    "Interdiction of special nuclear materials is a modern grand challenge {% dis._bib.pcite('Byrd2005') %}. {% lyx.todo('Cite Engineering') %} The potential damage of a nuclear based terrorist event is enormous; the terror {% lyx.label('ss') %} {% dis._bib.pcite('Hahn1968') %} induced by such an event would also have far reaching repurcussions. Fear of an event of this magnitude has lead to the creation of international and national protection agencies since the development of the original bombs in 1945. This dissertation discusses the technical issues facing those that work to reduce the threat, and then profiles an alternative detector type for use in threat reduction. {% lyx.cref('ss') %} Significant improvements to this detector were performed for this dissertation. Methods of use of this detector were also developed and optimized for this dissertation and are described."
   ]
  },
  {
   "cell_type": "code",
   "execution_count": 3,
   "metadata": {
    "collapsed": false,
    "deletable": true,
    "editable": true
   },
   "outputs": [],
   "source": [
    "dis.chapter('test_jinja')"
   ]
  },
  {
   "cell_type": "code",
   "execution_count": 4,
   "metadata": {
    "collapsed": false,
    "deletable": true,
    "editable": true
   },
   "outputs": [
    {
     "data": {
      "text/markdown": [
       "\n",
       "here's some more material $2.45\\frac{1}{12}$"
      ],
      "text/plain": [
       "<IPython.core.display.Markdown object>"
      ]
     },
     "metadata": {},
     "output_type": "display_data"
    }
   ],
   "source": [
    "%%dis add_to_cchap\n",
    "\n",
    "here's some more material $2.45\\frac{1}{12}$"
   ]
  },
  {
   "cell_type": "code",
   "execution_count": 5,
   "metadata": {
    "collapsed": false,
    "deletable": true,
    "editable": true
   },
   "outputs": [
    {
     "data": {
      "text/latex": [
       "\\bibliographystyle{unsrt} \\bibliography{/home/ahagen/bibs/dissertation.bib}"
      ],
      "text/plain": [
       "<IPython.core.display.Latex object>"
      ]
     },
     "execution_count": 5,
     "metadata": {},
     "output_type": "execute_result"
    }
   ],
   "source": [
    "dis._bib.bibliography()"
   ]
  },
  {
   "cell_type": "code",
   "execution_count": 6,
   "metadata": {
    "collapsed": false,
    "deletable": true,
    "editable": true
   },
   "outputs": [
    {
     "data": {
      "text/html": [
       "<a href='./test_export.pdf' target='_blank'>./test_export.pdf</a><br>"
      ],
      "text/plain": [
       "/home/ahagen/code/lyxithea/test_export.pdf"
      ]
     },
     "metadata": {},
     "output_type": "display_data"
    },
    {
     "data": {
      "text/html": [
       "<a href='./test_export.tex' target='_blank'>./test_export.tex</a><br>"
      ],
      "text/plain": [
       "/home/ahagen/code/lyxithea/test_export.tex"
      ]
     },
     "metadata": {},
     "output_type": "display_data"
    }
   ],
   "source": [
    "dis.export('test_export')"
   ]
  },
  {
   "cell_type": "code",
   "execution_count": 7,
   "metadata": {
    "collapsed": false,
    "deletable": true,
    "editable": true
   },
   "outputs": [
    {
     "data": {
      "text/plain": [
       "''"
      ]
     },
     "execution_count": 7,
     "metadata": {},
     "output_type": "execute_result"
    }
   ],
   "source": [
    "lyx.print_todos()"
   ]
  },
  {
   "cell_type": "code",
   "execution_count": null,
   "metadata": {
    "collapsed": true
   },
   "outputs": [],
   "source": []
  }
 ],
 "metadata": {
  "hide_input": false,
  "kernelspec": {
   "display_name": "Python 2",
   "language": "python",
   "name": "python2"
  },
  "language_info": {
   "codemirror_mode": {
    "name": "ipython",
    "version": 2
   },
   "file_extension": ".py",
   "mimetype": "text/x-python",
   "name": "python",
   "nbconvert_exporter": "python",
   "pygments_lexer": "ipython2",
   "version": "2.7.12"
  },
  "latex_envs": {
   "LaTeX_envs_menu_present": true,
   "autocomplete": true,
   "bibliofile": "biblio.bib",
   "cite_by": "apalike",
   "current_citInitial": 1,
   "eqLabelWithNumbers": true,
   "eqNumInitial": 1,
   "hotkeys": {
    "equation": "Ctrl-E",
    "itemize": "Ctrl-I"
   },
   "labels_anchors": false,
   "latex_user_defs": false,
   "report_style_numbering": false,
   "user_envs_cfg": false
  }
 },
 "nbformat": 4,
 "nbformat_minor": 2
}

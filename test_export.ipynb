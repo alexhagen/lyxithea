{
 "cells": [
  {
   "cell_type": "code",
   "execution_count": 1,
   "metadata": {
    "collapsed": false,
    "deletable": true,
    "editable": true
   },
   "outputs": [
    {
     "data": {
      "application/javascript": [
       "\n",
       "    MathJax.Hub.Register.StartupHook(\"TeX Jax Ready\",function () {\n",
       "      var MML = MathJax.ElementJax.mml,\n",
       "          TeX = MathJax.InputJax.TeX;\n",
       "\n",
       "      TeX.Definitions.macros.nicefrac = \"myBevelFraction\";\n",
       "\n",
       "      TeX.Parse.Augment({\n",
       "        myBevelFraction: function (name) {\n",
       "          var num = this.ParseArg(name),\n",
       "              den = this.ParseArg(name);\n",
       "          this.Push(MML.mfrac(num,den).With({bevelled: true}));\n",
       "        }\n",
       "      });\n",
       "      MathJax.Hub.Insert(MathJax.InputJax.TeX.Definitions.macros,{\n",
       "          cancel: [\"Extension\",\"cancel\"],\n",
       "          bcancel: [\"Extension\",\"cancel\"],\n",
       "          xcancel: [\"Extension\",\"cancel\"],\n",
       "          cancelto: [\"Extension\",\"cancel\"]\n",
       "        });\n",
       "    });\n",
       "    "
      ],
      "text/plain": [
       "<IPython.core.display.Javascript object>"
      ]
     },
     "metadata": {},
     "output_type": "display_data"
    },
    {
     "data": {
      "text/html": [
       "<span style=\"display:none;\">$\\newcommand{\\unit}[1]{\\mathrm{#1}}$</span>\n",
       "<span style=\"display:none;\">$\\newcommand{\\ce}[1]{\\mathrm{#1}}$</span>\n",
       "<link rel=\"stylesheet\" href=\"https://cdn.rawgit.com/tiaanduplessis/wenk/master/dist/wenk.css\">\n",
       "<style> span.abbr{ color: #999; } </style>\n",
       "<style> [data-wenk]:after { z-index: 1000000000; } </style>\n"
      ],
      "text/plain": [
       "<IPython.core.display.HTML object>"
      ]
     },
     "metadata": {},
     "output_type": "display_data"
    },
    {
     "data": {
      "application/javascript": [
       "IPython.CodeCell.config_defaults.highlight_modes['magic_markdown'] = {'reg':[/^%%dis/]}; \n",
       "IPython.Cell.options_default.cm_config.lineWrapping = true;"
      ]
     },
     "metadata": {},
     "output_type": "display_data"
    }
   ],
   "source": [
    "import lyxithea as lyx\n",
    "import dissertation as lyxd\n",
    "\n",
    "dis = lyxd.cdis().chapter_paths(['.'])"
   ]
  },
  {
   "cell_type": "code",
   "execution_count": 2,
   "metadata": {
    "collapsed": false,
    "deletable": true,
    "editable": true,
    "hide_input": false
   },
   "outputs": [
    {
     "data": {
      "text/markdown": [
       "# Introduction\n",
       "\n",
       "Interdiction of special nuclear materials is a modern grand challenge (<a href=\"#Engineering2012\">National  2012</a>)\n",
       ". \n",
       " The potential damage of a nuclear based terrorist event is enormous; the terror None\n",
       " (??)\n",
       " induced by such an event would also have far reaching repurcussions. Fear of an event of this magnitude has lead to the creation of international and national protection agencies since the development of the original bombs in 1945. This dissertation discusses the technical issues facing those that work to reduce the threat, and then profiles an alternative detector type for use in threat reduction. <a href=\"#ss\">ref 0</a>\n",
       " Significant improvements to this detector were performed for this dissertation. Methods of use of this detector were also developed and optimized for this dissertation and are described."
      ],
      "text/plain": [
       "<IPython.core.display.Markdown object>"
      ]
     },
     "metadata": {},
     "output_type": "display_data"
    }
   ],
   "source": [
    "%%dis add_to_cchap\n",
    "# Introduction\n",
    "\n",
    "Interdiction of special nuclear materials is a modern grand challenge {% dis._bib.pcite('Engineering2012') %}. {% lyx.todo('Cite Engineering') %} The potential damage of a nuclear based terrorist event is enormous; the terror {% lyx.label('ss') %} {% dis._bib.pcite('somebadlabel2010') %} induced by such an event would also have far reaching repurcussions. Fear of an event of this magnitude has lead to the creation of international and national protection agencies since the development of the original bombs in 1945. This dissertation discusses the technical issues facing those that work to reduce the threat, and then profiles an alternative detector type for use in threat reduction. {% lyx.cref('ss') %} Significant improvements to this detector were performed for this dissertation. Methods of use of this detector were also developed and optimized for this dissertation and are described."
   ]
  },
  {
   "cell_type": "code",
   "execution_count": 3,
   "metadata": {
    "collapsed": false,
    "deletable": true,
    "editable": true
   },
   "outputs": [
    {
     "name": "stdout",
     "output_type": "stream",
     "text": [
      "[{u'execution_count': 1, u'cell_type': u'code', u'source': u\"#%load_ext autoreload\\n#%autoreload 2\\nimport lyxithea as lyx\\nimport dissertation as lyxd\\n\\nbib = lyx.bib('bibs/dissertation.bib')\\ndis = lyxd.dissertation(bib)\\nx = 5.0\", u'outputs': [{u'output_type': u'display_data', u'data': {u'application/javascript': u'\\n    MathJax.Hub.Register.StartupHook(\"TeX Jax Ready\",function () {\\n      var MML = MathJax.ElementJax.mml,\\n          TeX = MathJax.InputJax.TeX;\\n\\n      TeX.Definitions.macros.nicefrac = \"myBevelFraction\";\\n\\n      TeX.Parse.Augment({\\n        myBevelFraction: function (name) {\\n          var num = this.ParseArg(name),\\n              den = this.ParseArg(name);\\n          this.Push(MML.mfrac(num,den).With({bevelled: true}));\\n        }\\n      });\\n      MathJax.Hub.Insert(MathJax.InputJax.TeX.Definitions.macros,{\\n          cancel: [\"Extension\",\"cancel\"],\\n          bcancel: [\"Extension\",\"cancel\"],\\n          xcancel: [\"Extension\",\"cancel\"],\\n          cancelto: [\"Extension\",\"cancel\"]\\n        });\\n    });\\n    ', u'text/plain': u'<IPython.core.display.Javascript object>'}, u'metadata': {}}, {u'output_type': u'display_data', u'data': {u'text/plain': u'<IPython.core.display.HTML object>', u'text/html': u'<span style=\"display:none;\">$\\\\newcommand{\\\\unit}[1]{\\\\mathrm{#1}}$</span>\\n<span style=\"display:none;\">$\\\\newcommand{\\\\ce}[1]{\\\\mathrm{#1}}$</span>\\n<link rel=\"stylesheet\" href=\"https://cdn.rawgit.com/tiaanduplessis/wenk/master/dist/wenk.css\">\\n<style> span.abbr{ color: #999; } </style>\\n<style> [data-wenk]:after { z-index: 1000000000; } </style>\\n'}, u'metadata': {}}, {u'output_type': u'display_data', u'data': {u'application/javascript': u\"IPython.CodeCell.config_defaults.highlight_modes['magic_markdown'] = {'reg':[/^%%dis/]}; \\nIPython.Cell.options_default.cm_config.lineWrapping = true;\"}, u'metadata': {}}], u'metadata': {u'collapsed': False, u'editable': True, u'deletable': True}}, {u'execution_count': 2, u'cell_type': u'code', u'source': u'%%dis preface\\n# Preface\\nActive interrogation applications were also explored, with three\\nspecific techniques chosen and proven. {% x %} These techniques are termed\\nthreshold energy neutron analysis (TENA), interrogation of cargo for\\nphoto-fission (ICPF), and differential die away analysis (DDAA).\\n{% print \"\"\"\\nthis is a multiline match\\n\"\"\" %} Threshold energy neutron analysis uses a source of 2.45\\\\unit{MeV}\\nneutrons continuously interrogating cargo. These interrogation\\nneutrons cause fissions in cargo containing special nuclear material\\n{% print \\'\\\\latex{some latex string here % comment more latex}\\' %}\\n(SNM). A detector can be used to detect only those neutrons that have\\nenergies higher than the interrogating beam, unequivocably indicating\\nthe presence of SNM. The centrifugally tensioned metastable fluid\\ndetector was able to detect these neutrons at efficiencies up to\\n$4\\\\unit{\\\\%}$ while rejecting up to $10,000\\\\unit{\\\\times}$ more source\\nneutrons than fission neutrons. These results compare very favorably\\nagainst conventional liquid scintillation detectors, which only can\\ndetect with efficiencies up to $0.1\\\\unit{\\\\%}$ and rejection ratios of\\nless than $12\\\\unit{\\\\times}$.', u'outputs': [{u'output_type': u'display_data', u'data': {u'text/plain': u'<IPython.core.display.Markdown object>', u'text/markdown': u'# Preface\\nActive interrogation applications were also explored, with three\\nspecific techniques chosen and proven. 5.0\\n These techniques are termed\\nthreshold energy neutron analysis (TENA), interrogation of cargo for\\nphoto-fission (ICPF), and differential die away analysis (DDAA).\\n\\nthis is a multiline match\\n\\n Threshold energy neutron analysis uses a source of 2.45\\\\unit{MeV}\\nneutrons continuously interrogating cargo. These interrogation\\nneutrons cause fissions in cargo containing special nuclear material\\n\\\\latex{some latex string here % comment more latex}\\n\\n(SNM). A detector can be used to detect only those neutrons that have\\nenergies higher than the interrogating beam, unequivocably indicating\\nthe presence of SNM. The centrifugally tensioned metastable fluid\\ndetector was able to detect these neutrons at efficiencies up to\\n$4\\\\unit{\\\\%}$ while rejecting up to $10,000\\\\unit{\\\\times}$ more source\\nneutrons than fission neutrons. These results compare very favorably\\nagainst conventional liquid scintillation detectors, which only can\\ndetect with efficiencies up to $0.1\\\\unit{\\\\%}$ and rejection ratios of\\nless than $12\\\\unit{\\\\times}$.'}, u'metadata': {}}], u'metadata': {u'collapsed': False, u'editable': True, u'deletable': True}}, {u'execution_count': None, u'cell_type': u'code', u'source': '', u'outputs': [], u'metadata': {u'collapsed': True, u'editable': True, u'deletable': True}}]\n"
     ]
    },
    {
     "ename": "AttributeError",
     "evalue": "new_code_cell",
     "output_type": "error",
     "traceback": [
      "\u001b[0;31m---------------------------------------------------------------------------\u001b[0m",
      "\u001b[0;31mAttributeError\u001b[0m                            Traceback (most recent call last)",
      "\u001b[0;32m<ipython-input-3-a71a94047373>\u001b[0m in \u001b[0;36m<module>\u001b[0;34m()\u001b[0m\n\u001b[0;32m----> 1\u001b[0;31m \u001b[0mdis\u001b[0m\u001b[0;34m.\u001b[0m\u001b[0mchapter\u001b[0m\u001b[0;34m(\u001b[0m\u001b[0;34m'test_jinja.ipynb'\u001b[0m\u001b[0;34m)\u001b[0m\u001b[0;34m\u001b[0m\u001b[0m\n\u001b[0m",
      "\u001b[0;32m/Users/ahagen/code/lyxithea/dissertation.py\u001b[0m in \u001b[0;36mchapter\u001b[0;34m(self, filename)\u001b[0m\n\u001b[1;32m    195\u001b[0m         \u001b[0;32mprint\u001b[0m \u001b[0mnb\u001b[0m\u001b[0;34m.\u001b[0m\u001b[0mcells\u001b[0m\u001b[0;34m\u001b[0m\u001b[0m\n\u001b[1;32m    196\u001b[0m         \u001b[0;32mfor\u001b[0m \u001b[0mcell\u001b[0m \u001b[0;32min\u001b[0m \u001b[0mnb\u001b[0m\u001b[0;34m.\u001b[0m\u001b[0mcells\u001b[0m\u001b[0;34m:\u001b[0m\u001b[0;34m\u001b[0m\u001b[0m\n\u001b[0;32m--> 197\u001b[0;31m             \u001b[0mnb2\u001b[0m\u001b[0;34m.\u001b[0m\u001b[0mnew_code_cell\u001b[0m\u001b[0;34m(\u001b[0m\u001b[0mcell\u001b[0m\u001b[0;34m.\u001b[0m\u001b[0msource\u001b[0m\u001b[0;34m)\u001b[0m\u001b[0;34m\u001b[0m\u001b[0m\n\u001b[0m\u001b[1;32m    198\u001b[0m         \u001b[0;31m#if False: #not os.path.isfile('/tmp/convertingjupyter'):\u001b[0m\u001b[0;34m\u001b[0m\u001b[0;34m\u001b[0m\u001b[0m\n\u001b[1;32m    199\u001b[0m         \u001b[0;31m#ip.magic(\"load \" + filename)\u001b[0m\u001b[0;34m\u001b[0m\u001b[0;34m\u001b[0m\u001b[0m\n",
      "\u001b[0;32m/usr/local/lib/python2.7/site-packages/ipython_genutils/ipstruct.pyc\u001b[0m in \u001b[0;36m__getattr__\u001b[0;34m(self, key)\u001b[0m\n\u001b[1;32m    132\u001b[0m             \u001b[0mresult\u001b[0m \u001b[0;34m=\u001b[0m \u001b[0mself\u001b[0m\u001b[0;34m[\u001b[0m\u001b[0mkey\u001b[0m\u001b[0;34m]\u001b[0m\u001b[0;34m\u001b[0m\u001b[0m\n\u001b[1;32m    133\u001b[0m         \u001b[0;32mexcept\u001b[0m \u001b[0mKeyError\u001b[0m\u001b[0;34m:\u001b[0m\u001b[0;34m\u001b[0m\u001b[0m\n\u001b[0;32m--> 134\u001b[0;31m             \u001b[0;32mraise\u001b[0m \u001b[0mAttributeError\u001b[0m\u001b[0;34m(\u001b[0m\u001b[0mkey\u001b[0m\u001b[0;34m)\u001b[0m\u001b[0;34m\u001b[0m\u001b[0m\n\u001b[0m\u001b[1;32m    135\u001b[0m         \u001b[0;32melse\u001b[0m\u001b[0;34m:\u001b[0m\u001b[0;34m\u001b[0m\u001b[0m\n\u001b[1;32m    136\u001b[0m             \u001b[0;32mreturn\u001b[0m \u001b[0mresult\u001b[0m\u001b[0;34m\u001b[0m\u001b[0m\n",
      "\u001b[0;31mAttributeError\u001b[0m: new_code_cell"
     ]
    }
   ],
   "source": [
    "dis.chapter('test_jinja.ipynb')"
   ]
  },
  {
   "cell_type": "code",
   "execution_count": null,
   "metadata": {
    "collapsed": false,
    "deletable": true,
    "editable": true
   },
   "outputs": [],
   "source": [
    "dis.export('test_export')"
   ]
  },
  {
   "cell_type": "code",
   "execution_count": null,
   "metadata": {
    "collapsed": false,
    "deletable": true,
    "editable": true
   },
   "outputs": [],
   "source": [
    "lyx.print_todos()"
   ]
  },
  {
   "cell_type": "code",
   "execution_count": null,
   "metadata": {
    "collapsed": true,
    "deletable": true,
    "editable": true
   },
   "outputs": [],
   "source": []
  }
 ],
 "metadata": {
  "hide_input": false,
  "kernelspec": {
   "display_name": "Python 2",
   "language": "python",
   "name": "python2"
  },
  "language_info": {
   "codemirror_mode": {
    "name": "ipython",
    "version": 2
   },
   "file_extension": ".py",
   "mimetype": "text/x-python",
   "name": "python",
   "nbconvert_exporter": "python",
   "pygments_lexer": "ipython2",
   "version": "2.7.13"
  },
  "latex_envs": {
   "LaTeX_envs_menu_present": true,
   "autocomplete": true,
   "bibliofile": "biblio.bib",
   "cite_by": "apalike",
   "current_citInitial": 1,
   "eqLabelWithNumbers": true,
   "eqNumInitial": 1,
   "hotkeys": {
    "equation": "Ctrl-E",
    "itemize": "Ctrl-I"
   },
   "labels_anchors": false,
   "latex_user_defs": false,
   "report_style_numbering": false,
   "user_envs_cfg": false
  }
 },
 "nbformat": 4,
 "nbformat_minor": 2
}
